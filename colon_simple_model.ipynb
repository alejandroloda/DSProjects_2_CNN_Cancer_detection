{
 "cells": [
  {
   "cell_type": "code",
   "execution_count": 27,
   "metadata": {
    "ExecuteTime": {
     "end_time": "2021-01-05T17:21:17.629420Z",
     "start_time": "2021-01-05T17:21:17.622439Z"
    }
   },
   "outputs": [],
   "source": [
    "from tensorflow.keras.preprocessing.image import ImageDataGenerator\n",
    "from tensorflow.keras.models import Sequential\n",
    "from tensorflow.keras.layers import Activation, Dropout, Flatten, Dense, Conv2D, MaxPooling2D\n",
    "from tensorflow.keras.optimizers import Adam"
   ]
  },
  {
   "cell_type": "markdown",
   "metadata": {},
   "source": [
    "Load dataframes and filter them.\n",
    "\n"
   ]
  },
  {
   "cell_type": "code",
   "execution_count": 37,
   "metadata": {
    "ExecuteTime": {
     "end_time": "2021-01-05T17:22:53.143800Z",
     "start_time": "2021-01-05T17:22:53.087949Z"
    }
   },
   "outputs": [
    {
     "data": {
      "text/html": [
       "<div>\n",
       "<style scoped>\n",
       "    .dataframe tbody tr th:only-of-type {\n",
       "        vertical-align: middle;\n",
       "    }\n",
       "\n",
       "    .dataframe tbody tr th {\n",
       "        vertical-align: top;\n",
       "    }\n",
       "\n",
       "    .dataframe thead th {\n",
       "        text-align: right;\n",
       "    }\n",
       "</style>\n",
       "<table border=\"1\" class=\"dataframe\">\n",
       "  <thead>\n",
       "    <tr style=\"text-align: right;\">\n",
       "      <th></th>\n",
       "      <th>filepath</th>\n",
       "      <th>is_non_cancer</th>\n",
       "    </tr>\n",
       "  </thead>\n",
       "  <tbody>\n",
       "    <tr>\n",
       "      <th>0</th>\n",
       "      <td>data\\colon_image_sets\\colon_n\\colonn3528.jpeg</td>\n",
       "      <td>True</td>\n",
       "    </tr>\n",
       "    <tr>\n",
       "      <th>1</th>\n",
       "      <td>data\\colon_image_sets\\colon_n\\colonn3115.jpeg</td>\n",
       "      <td>True</td>\n",
       "    </tr>\n",
       "    <tr>\n",
       "      <th>2</th>\n",
       "      <td>data\\colon_image_sets\\colon_n\\colonn3012.jpeg</td>\n",
       "      <td>True</td>\n",
       "    </tr>\n",
       "    <tr>\n",
       "      <th>3</th>\n",
       "      <td>data\\colon_image_sets\\colon_n\\colonn4184.jpeg</td>\n",
       "      <td>True</td>\n",
       "    </tr>\n",
       "    <tr>\n",
       "      <th>4</th>\n",
       "      <td>data\\colon_image_sets\\colon_n\\colonn2768.jpeg</td>\n",
       "      <td>True</td>\n",
       "    </tr>\n",
       "    <tr>\n",
       "      <th>...</th>\n",
       "      <td>...</td>\n",
       "      <td>...</td>\n",
       "    </tr>\n",
       "    <tr>\n",
       "      <th>7995</th>\n",
       "      <td>data\\colon_image_sets\\colon_aca\\colonca2665.jpeg</td>\n",
       "      <td>False</td>\n",
       "    </tr>\n",
       "    <tr>\n",
       "      <th>7996</th>\n",
       "      <td>data\\colon_image_sets\\colon_aca\\colonca1066.jpeg</td>\n",
       "      <td>False</td>\n",
       "    </tr>\n",
       "    <tr>\n",
       "      <th>7997</th>\n",
       "      <td>data\\colon_image_sets\\colon_aca\\colonca3033.jpeg</td>\n",
       "      <td>False</td>\n",
       "    </tr>\n",
       "    <tr>\n",
       "      <th>7998</th>\n",
       "      <td>data\\colon_image_sets\\colon_aca\\colonca1014.jpeg</td>\n",
       "      <td>False</td>\n",
       "    </tr>\n",
       "    <tr>\n",
       "      <th>7999</th>\n",
       "      <td>data\\colon_image_sets\\colon_aca\\colonca848.jpeg</td>\n",
       "      <td>False</td>\n",
       "    </tr>\n",
       "  </tbody>\n",
       "</table>\n",
       "<p>8000 rows × 2 columns</p>\n",
       "</div>"
      ],
      "text/plain": [
       "                                              filepath is_non_cancer\n",
       "0        data\\colon_image_sets\\colon_n\\colonn3528.jpeg          True\n",
       "1        data\\colon_image_sets\\colon_n\\colonn3115.jpeg          True\n",
       "2        data\\colon_image_sets\\colon_n\\colonn3012.jpeg          True\n",
       "3        data\\colon_image_sets\\colon_n\\colonn4184.jpeg          True\n",
       "4        data\\colon_image_sets\\colon_n\\colonn2768.jpeg          True\n",
       "...                                                ...           ...\n",
       "7995  data\\colon_image_sets\\colon_aca\\colonca2665.jpeg         False\n",
       "7996  data\\colon_image_sets\\colon_aca\\colonca1066.jpeg         False\n",
       "7997  data\\colon_image_sets\\colon_aca\\colonca3033.jpeg         False\n",
       "7998  data\\colon_image_sets\\colon_aca\\colonca1014.jpeg         False\n",
       "7999   data\\colon_image_sets\\colon_aca\\colonca848.jpeg         False\n",
       "\n",
       "[8000 rows x 2 columns]"
      ]
     },
     "execution_count": 37,
     "metadata": {},
     "output_type": "execute_result"
    }
   ],
   "source": [
    "import pandas as pd\n",
    "train = pd.read_csv(\"train.csv\")\n",
    "test = pd.read_csv(\"test.csv\")\n",
    "train = train.loc[train.is_colon==1].drop(['is_colon', 'is_aca_cancer'],axis = 1)\n",
    "train['is_non_cancer']=train['is_non_cancer'].astype('str')\n",
    "test = test.loc[test.is_colon==1].drop(['is_colon', 'is_aca_cancer'],axis = 1)\n",
    "test['is_non_cancer']=test['is_non_cancer'].astype('str')\n",
    "train"
   ]
  },
  {
   "cell_type": "code",
   "execution_count": 28,
   "metadata": {
    "ExecuteTime": {
     "end_time": "2021-01-05T17:21:17.913874Z",
     "start_time": "2021-01-05T17:21:17.902903Z"
    }
   },
   "outputs": [],
   "source": [
    "train_datagen = ImageDataGenerator(rescale=1/255)\n",
    "test_datagen = ImageDataGenerator(rescale=1/255)\n",
    "\n",
    "target_size = (256,256)"
   ]
  },
  {
   "cell_type": "code",
   "execution_count": 39,
   "metadata": {
    "ExecuteTime": {
     "end_time": "2021-01-05T17:32:59.111023Z",
     "start_time": "2021-01-05T17:32:58.361031Z"
    }
   },
   "outputs": [
    {
     "name": "stdout",
     "output_type": "stream",
     "text": [
      "Found 8000 validated image filenames belonging to 2 classes.\n",
      "Found 2000 validated image filenames belonging to 2 classes.\n"
     ]
    },
    {
     "data": {
      "text/plain": [
       "<tensorflow.python.keras.preprocessing.image.DataFrameIterator at 0x227e19d3ac0>"
      ]
     },
     "execution_count": 39,
     "metadata": {},
     "output_type": "execute_result"
    }
   ],
   "source": [
    "train_datagen.flow_from_dataframe(train,\n",
    "                                  x_col='filepath',\n",
    "                                  y_col='is_non_cancer',\n",
    "                                  target_size=target_size,\n",
    "                                  batch_size=40,\n",
    "                                  class_mode='binary')\n",
    "test_datagen.flow_from_dataframe(test,\n",
    "                                  x_col='filepath',\n",
    "                                  y_col='is_non_cancer',\n",
    "                                  target_size=target_size,\n",
    "                                  batch_size=40,\n",
    "                                  class_mode='binary')"
   ]
  },
  {
   "cell_type": "code",
   "execution_count": null,
   "metadata": {},
   "outputs": [],
   "source": []
  }
 ],
 "metadata": {
  "hide_input": false,
  "kernelspec": {
   "display_name": "Python 3",
   "language": "python",
   "name": "python3"
  },
  "language_info": {
   "codemirror_mode": {
    "name": "ipython",
    "version": 3
   },
   "file_extension": ".py",
   "mimetype": "text/x-python",
   "name": "python",
   "nbconvert_exporter": "python",
   "pygments_lexer": "ipython3",
   "version": "3.8.3"
  },
  "toc": {
   "base_numbering": 1,
   "nav_menu": {},
   "number_sections": false,
   "sideBar": true,
   "skip_h1_title": false,
   "title_cell": "Table of Contents",
   "title_sidebar": "Contents",
   "toc_cell": false,
   "toc_position": {},
   "toc_section_display": true,
   "toc_window_display": false
  },
  "varInspector": {
   "cols": {
    "lenName": 16,
    "lenType": 16,
    "lenVar": 40
   },
   "kernels_config": {
    "python": {
     "delete_cmd_postfix": "",
     "delete_cmd_prefix": "del ",
     "library": "var_list.py",
     "varRefreshCmd": "print(var_dic_list())"
    },
    "r": {
     "delete_cmd_postfix": ") ",
     "delete_cmd_prefix": "rm(",
     "library": "var_list.r",
     "varRefreshCmd": "cat(var_dic_list()) "
    }
   },
   "types_to_exclude": [
    "module",
    "function",
    "builtin_function_or_method",
    "instance",
    "_Feature"
   ],
   "window_display": false
  }
 },
 "nbformat": 4,
 "nbformat_minor": 4
}
