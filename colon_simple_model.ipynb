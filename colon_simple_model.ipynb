{
 "cells": [
  {
   "cell_type": "code",
   "execution_count": 1,
   "metadata": {
    "ExecuteTime": {
     "end_time": "2021-02-13T22:35:05.576612Z",
     "start_time": "2021-02-13T22:35:02.956637Z"
    }
   },
   "outputs": [],
   "source": [
    "from tensorflow.keras.preprocessing.image import ImageDataGenerator\n",
    "from tensorflow.keras.models import Sequential\n",
    "from tensorflow.keras.layers import Activation, Dropout, Flatten, Dense, Conv2D, MaxPooling2D\n",
    "from tensorflow.keras.optimizers import Adam"
   ]
  },
  {
   "cell_type": "markdown",
   "metadata": {},
   "source": [
    "Load dataframes and filter them.\n",
    "\n"
   ]
  },
  {
   "cell_type": "code",
   "execution_count": 2,
   "metadata": {
    "ExecuteTime": {
     "end_time": "2021-02-13T22:35:05.703248Z",
     "start_time": "2021-02-13T22:35:05.580602Z"
    }
   },
   "outputs": [
    {
     "data": {
      "text/html": [
       "<div>\n",
       "<style scoped>\n",
       "    .dataframe tbody tr th:only-of-type {\n",
       "        vertical-align: middle;\n",
       "    }\n",
       "\n",
       "    .dataframe tbody tr th {\n",
       "        vertical-align: top;\n",
       "    }\n",
       "\n",
       "    .dataframe thead th {\n",
       "        text-align: right;\n",
       "    }\n",
       "</style>\n",
       "<table border=\"1\" class=\"dataframe\">\n",
       "  <thead>\n",
       "    <tr style=\"text-align: right;\">\n",
       "      <th></th>\n",
       "      <th>filepath</th>\n",
       "      <th>is_non_cancer</th>\n",
       "    </tr>\n",
       "  </thead>\n",
       "  <tbody>\n",
       "    <tr>\n",
       "      <th>0</th>\n",
       "      <td>data\\colon_image_sets\\colon_n\\colonn3528.jpeg</td>\n",
       "      <td>True</td>\n",
       "    </tr>\n",
       "    <tr>\n",
       "      <th>1</th>\n",
       "      <td>data\\colon_image_sets\\colon_n\\colonn3115.jpeg</td>\n",
       "      <td>True</td>\n",
       "    </tr>\n",
       "    <tr>\n",
       "      <th>2</th>\n",
       "      <td>data\\colon_image_sets\\colon_n\\colonn3012.jpeg</td>\n",
       "      <td>True</td>\n",
       "    </tr>\n",
       "    <tr>\n",
       "      <th>3</th>\n",
       "      <td>data\\colon_image_sets\\colon_n\\colonn4184.jpeg</td>\n",
       "      <td>True</td>\n",
       "    </tr>\n",
       "    <tr>\n",
       "      <th>4</th>\n",
       "      <td>data\\colon_image_sets\\colon_n\\colonn2768.jpeg</td>\n",
       "      <td>True</td>\n",
       "    </tr>\n",
       "    <tr>\n",
       "      <th>...</th>\n",
       "      <td>...</td>\n",
       "      <td>...</td>\n",
       "    </tr>\n",
       "    <tr>\n",
       "      <th>7995</th>\n",
       "      <td>data\\colon_image_sets\\colon_aca\\colonca2665.jpeg</td>\n",
       "      <td>False</td>\n",
       "    </tr>\n",
       "    <tr>\n",
       "      <th>7996</th>\n",
       "      <td>data\\colon_image_sets\\colon_aca\\colonca1066.jpeg</td>\n",
       "      <td>False</td>\n",
       "    </tr>\n",
       "    <tr>\n",
       "      <th>7997</th>\n",
       "      <td>data\\colon_image_sets\\colon_aca\\colonca3033.jpeg</td>\n",
       "      <td>False</td>\n",
       "    </tr>\n",
       "    <tr>\n",
       "      <th>7998</th>\n",
       "      <td>data\\colon_image_sets\\colon_aca\\colonca1014.jpeg</td>\n",
       "      <td>False</td>\n",
       "    </tr>\n",
       "    <tr>\n",
       "      <th>7999</th>\n",
       "      <td>data\\colon_image_sets\\colon_aca\\colonca848.jpeg</td>\n",
       "      <td>False</td>\n",
       "    </tr>\n",
       "  </tbody>\n",
       "</table>\n",
       "<p>8000 rows × 2 columns</p>\n",
       "</div>"
      ],
      "text/plain": [
       "                                              filepath is_non_cancer\n",
       "0        data\\colon_image_sets\\colon_n\\colonn3528.jpeg          True\n",
       "1        data\\colon_image_sets\\colon_n\\colonn3115.jpeg          True\n",
       "2        data\\colon_image_sets\\colon_n\\colonn3012.jpeg          True\n",
       "3        data\\colon_image_sets\\colon_n\\colonn4184.jpeg          True\n",
       "4        data\\colon_image_sets\\colon_n\\colonn2768.jpeg          True\n",
       "...                                                ...           ...\n",
       "7995  data\\colon_image_sets\\colon_aca\\colonca2665.jpeg         False\n",
       "7996  data\\colon_image_sets\\colon_aca\\colonca1066.jpeg         False\n",
       "7997  data\\colon_image_sets\\colon_aca\\colonca3033.jpeg         False\n",
       "7998  data\\colon_image_sets\\colon_aca\\colonca1014.jpeg         False\n",
       "7999   data\\colon_image_sets\\colon_aca\\colonca848.jpeg         False\n",
       "\n",
       "[8000 rows x 2 columns]"
      ]
     },
     "execution_count": 2,
     "metadata": {},
     "output_type": "execute_result"
    }
   ],
   "source": [
    "import pandas as pd\n",
    "train = pd.read_csv(\"train.csv\")\n",
    "test = pd.read_csv(\"test.csv\")\n",
    "train = train.loc[train.is_colon==1].drop(['is_colon', 'is_aca_cancer'],axis = 1)\n",
    "train['is_non_cancer']=train['is_non_cancer'].astype('str')\n",
    "test = test.loc[test.is_colon==1].drop(['is_colon', 'is_aca_cancer'],axis = 1)\n",
    "test['is_non_cancer']=test['is_non_cancer'].astype('str')\n",
    "train"
   ]
  },
  {
   "cell_type": "code",
   "execution_count": 3,
   "metadata": {
    "ExecuteTime": {
     "end_time": "2021-02-13T22:35:05.718230Z",
     "start_time": "2021-02-13T22:35:05.705242Z"
    }
   },
   "outputs": [],
   "source": [
    "train_datagen = ImageDataGenerator(rescale=1/255,\n",
    "#                                    rotation_range=15,\n",
    "#                                   zoom_range=0.2,\n",
    "#                                   horizontal_flip=True,\n",
    "                                  )\n",
    "test_datagen = ImageDataGenerator(rescale=1/255,\n",
    "#                                    rotation_range=15,\n",
    "#                                   zoom_range=0.2,\n",
    "#                                   horizontal_flip=True,\n",
    "                                 )\n",
    "val_datagen = ImageDataGenerator(rescale=1/255,\n",
    "#                                    rotation_range=15,\n",
    "#                                   zoom_range=0.2,\n",
    "#                                   horizontal_flip=True,\n",
    "                                )\n",
    "\n",
    "target_size = (256,256)"
   ]
  },
  {
   "cell_type": "code",
   "execution_count": 4,
   "metadata": {
    "ExecuteTime": {
     "end_time": "2021-02-13T22:35:07.316977Z",
     "start_time": "2021-02-13T22:35:05.720200Z"
    }
   },
   "outputs": [
    {
     "name": "stdout",
     "output_type": "stream",
     "text": [
      "Found 6400 validated image filenames belonging to 2 classes.\n",
      "Found 1600 validated image filenames belonging to 2 classes.\n",
      "Found 2000 validated image filenames belonging to 2 classes.\n"
     ]
    }
   ],
   "source": [
    "from sklearn.model_selection import train_test_split\n",
    "train_df, validate_df = train_test_split(train, test_size=0.20, random_state=42)\n",
    "batch_size = 40\n",
    "\n",
    "train_datagen = train_datagen.flow_from_dataframe(train_df,\n",
    "                                  x_col='filepath',\n",
    "                                  y_col='is_non_cancer',\n",
    "                                  target_size=target_size,\n",
    "                                  batch_size=batch_size,\n",
    "                                  class_mode='binary',)\n",
    "val_datagen = val_datagen.flow_from_dataframe(validate_df,\n",
    "                                  x_col='filepath',\n",
    "                                  y_col='is_non_cancer',\n",
    "                                  target_size=target_size,\n",
    "                                  batch_size=batch_size,\n",
    "                                  class_mode='binary',\n",
    "                                  shuffle=False)\n",
    "test_datagen = test_datagen.flow_from_dataframe(test,\n",
    "                                  x_col='filepath',\n",
    "                                  y_col='is_non_cancer',\n",
    "                                  target_size=target_size,\n",
    "                                  batch_size=batch_size,\n",
    "                                  class_mode='binary',\n",
    "                                  shuffle=False)"
   ]
  },
  {
   "cell_type": "code",
   "execution_count": null,
   "metadata": {
    "ExecuteTime": {
     "end_time": "2021-02-13T22:22:09.089162Z",
     "start_time": "2021-02-13T22:22:08.710174Z"
    },
    "deletable": false,
    "editable": false,
    "run_control": {
     "frozen": true
    }
   },
   "outputs": [],
   "source": [
    "example_df = train_df.sample(n=1).reset_index(drop=True)\n",
    "example_generator = train_datagen.flow_from_dataframe(\n",
    "    train_df, \n",
    "    x_col='filepath',\n",
    "    y_col='is_non_cancer',\n",
    "    target_size=target_size,\n",
    "    class_mode='binary'\n",
    ")"
   ]
  },
  {
   "cell_type": "code",
   "execution_count": null,
   "metadata": {
    "ExecuteTime": {
     "end_time": "2021-02-13T22:22:23.977733Z",
     "start_time": "2021-02-13T22:22:09.955098Z"
    },
    "deletable": false,
    "editable": false,
    "run_control": {
     "frozen": true
    }
   },
   "outputs": [],
   "source": [
    "plt.figure(figsize=(12, 12))\n",
    "for i in range(0, 15):\n",
    "    plt.subplot(5, 3, i+1)\n",
    "    for X_batch, Y_batch in example_generator:\n",
    "        image = X_batch[0]\n",
    "        plt.imshow(image)\n",
    "        break\n",
    "plt.tight_layout()\n",
    "plt.show()"
   ]
  },
  {
   "cell_type": "markdown",
   "metadata": {},
   "source": [
    "## Model"
   ]
  },
  {
   "cell_type": "code",
   "execution_count": 5,
   "metadata": {
    "ExecuteTime": {
     "end_time": "2021-02-13T22:35:08.613961Z",
     "start_time": "2021-02-13T22:35:07.318973Z"
    }
   },
   "outputs": [
    {
     "name": "stdout",
     "output_type": "stream",
     "text": [
      "Model: \"sequential\"\n",
      "_________________________________________________________________\n",
      "Layer (type)                 Output Shape              Param #   \n",
      "=================================================================\n",
      "conv2d (Conv2D)              (None, 254, 254, 32)      896       \n",
      "_________________________________________________________________\n",
      "max_pooling2d (MaxPooling2D) (None, 127, 127, 32)      0         \n",
      "_________________________________________________________________\n",
      "conv2d_1 (Conv2D)            (None, 125, 125, 64)      18496     \n",
      "_________________________________________________________________\n",
      "max_pooling2d_1 (MaxPooling2 (None, 62, 62, 64)        0         \n",
      "_________________________________________________________________\n",
      "conv2d_2 (Conv2D)            (None, 60, 60, 128)       73856     \n",
      "_________________________________________________________________\n",
      "max_pooling2d_2 (MaxPooling2 (None, 30, 30, 128)       0         \n",
      "_________________________________________________________________\n",
      "flatten (Flatten)            (None, 115200)            0         \n",
      "_________________________________________________________________\n",
      "dense (Dense)                (None, 128)               14745728  \n",
      "_________________________________________________________________\n",
      "activation (Activation)      (None, 128)               0         \n",
      "_________________________________________________________________\n",
      "dropout (Dropout)            (None, 128)               0         \n",
      "_________________________________________________________________\n",
      "dense_1 (Dense)              (None, 1)                 129       \n",
      "_________________________________________________________________\n",
      "activation_1 (Activation)    (None, 1)                 0         \n",
      "=================================================================\n",
      "Total params: 14,839,105\n",
      "Trainable params: 14,839,105\n",
      "Non-trainable params: 0\n",
      "_________________________________________________________________\n"
     ]
    }
   ],
   "source": [
    "input_shape = (256,256,3)\n",
    "\n",
    "model = Sequential()\n",
    "\n",
    "# Add convolutional/pooling layers\n",
    "\n",
    "model.add(Conv2D(filters=32, kernel_size=(3,3),input_shape=input_shape, activation='relu',))\n",
    "model.add(MaxPooling2D(pool_size=(2, 2)))\n",
    "\n",
    "model.add(Conv2D(filters=64, kernel_size=(3,3),input_shape=input_shape, activation='relu',))\n",
    "model.add(MaxPooling2D(pool_size=(2, 2)))\n",
    "\n",
    "model.add(Conv2D(filters=128, kernel_size=(3,3),input_shape=input_shape, activation='relu',))\n",
    "model.add(MaxPooling2D(pool_size=(2, 2)))\n",
    "\n",
    "# Add flatten layer\n",
    "model.add(Flatten())\n",
    "\n",
    "# Add dense/dropout layers + activation functions\n",
    "\n",
    "model.add(Dense(128))\n",
    "model.add(Activation('relu'))# relu activation function for deep layer\n",
    "model.add(Dropout(0.2))\n",
    "\n",
    "model.add(Dense(1))\n",
    "model.add(Activation('sigmoid'))# sigmoid activation function for last layer for binary classification\n",
    "\n",
    "# Print summary of your model\n",
    "model.summary() "
   ]
  },
  {
   "cell_type": "code",
   "execution_count": 6,
   "metadata": {
    "ExecuteTime": {
     "end_time": "2021-02-13T23:42:15.792579Z",
     "start_time": "2021-02-13T22:35:08.615956Z"
    },
    "deletable": false,
    "editable": false,
    "run_control": {
     "frozen": true
    }
   },
   "outputs": [
    {
     "name": "stdout",
     "output_type": "stream",
     "text": [
      "Epoch 1/20\n",
      "160/160 [==============================] - 204s 1s/step - loss: 0.9785 - accuracy: 0.4945 - val_loss: 0.6931 - val_accuracy: 0.5025\n",
      "Epoch 2/20\n",
      "160/160 [==============================] - 198s 1s/step - loss: 0.6932 - accuracy: 0.4834 - val_loss: 0.6931 - val_accuracy: 0.5025\n",
      "Epoch 3/20\n",
      "160/160 [==============================] - 198s 1s/step - loss: 0.6932 - accuracy: 0.5054 - val_loss: 0.6931 - val_accuracy: 0.5025\n",
      "Epoch 4/20\n",
      "160/160 [==============================] - 197s 1s/step - loss: 0.6931 - accuracy: 0.5130 - val_loss: 0.6932 - val_accuracy: 0.4975\n",
      "Epoch 5/20\n",
      "160/160 [==============================] - 202s 1s/step - loss: 0.6932 - accuracy: 0.4903 - val_loss: 0.6932 - val_accuracy: 0.4975\n",
      "Epoch 6/20\n",
      "160/160 [==============================] - 199s 1s/step - loss: 0.6931 - accuracy: 0.5031 - val_loss: 0.6931 - val_accuracy: 0.4975\n",
      "Epoch 7/20\n",
      "160/160 [==============================] - 195s 1s/step - loss: 0.6932 - accuracy: 0.4975 - val_loss: 0.6932 - val_accuracy: 0.4975\n",
      "Epoch 8/20\n",
      "160/160 [==============================] - 195s 1s/step - loss: 0.6931 - accuracy: 0.5088 - val_loss: 0.6932 - val_accuracy: 0.4975\n",
      "Epoch 9/20\n",
      "160/160 [==============================] - 197s 1s/step - loss: 0.6932 - accuracy: 0.4958 - val_loss: 0.6932 - val_accuracy: 0.4975\n",
      "Epoch 10/20\n",
      "160/160 [==============================] - 199s 1s/step - loss: 0.6932 - accuracy: 0.5056 - val_loss: 0.6932 - val_accuracy: 0.4975\n",
      "Epoch 11/20\n",
      "160/160 [==============================] - 203s 1s/step - loss: 0.6931 - accuracy: 0.5092 - val_loss: 0.6932 - val_accuracy: 0.4975\n",
      "Epoch 12/20\n",
      "160/160 [==============================] - 199s 1s/step - loss: 0.6932 - accuracy: 0.4961 - val_loss: 0.6932 - val_accuracy: 0.4975\n",
      "Epoch 13/20\n",
      "160/160 [==============================] - 201s 1s/step - loss: 0.6932 - accuracy: 0.5006 - val_loss: 0.6931 - val_accuracy: 0.4975\n",
      "Epoch 14/20\n",
      "160/160 [==============================] - 203s 1s/step - loss: 0.6932 - accuracy: 0.4991 - val_loss: 0.6932 - val_accuracy: 0.4975\n",
      "Epoch 15/20\n",
      "160/160 [==============================] - 207s 1s/step - loss: 0.6932 - accuracy: 0.4971 - val_loss: 0.6932 - val_accuracy: 0.4975\n",
      "Epoch 16/20\n",
      "160/160 [==============================] - 208s 1s/step - loss: 0.6931 - accuracy: 0.5055 - val_loss: 0.6932 - val_accuracy: 0.4975\n",
      "Epoch 17/20\n",
      "160/160 [==============================] - 212s 1s/step - loss: 0.6932 - accuracy: 0.4847 - val_loss: 0.6932 - val_accuracy: 0.4975\n",
      "Epoch 18/20\n",
      "160/160 [==============================] - 204s 1s/step - loss: 0.6932 - accuracy: 0.4900 - val_loss: 0.6932 - val_accuracy: 0.4975\n",
      "Epoch 19/20\n",
      "160/160 [==============================] - 203s 1s/step - loss: 0.6932 - accuracy: 0.4925 - val_loss: 0.6932 - val_accuracy: 0.4975\n",
      "Epoch 20/20\n",
      "160/160 [==============================] - 202s 1s/step - loss: 0.6932 - accuracy: 0.4955 - val_loss: 0.6932 - val_accuracy: 0.4975\n"
     ]
    }
   ],
   "source": [
    "model.compile(loss='binary_crossentropy', optimizer='adam', metrics=['accuracy'])\n",
    "\n",
    "epochs = 20\n",
    "history = model.fit(train_datagen,\n",
    "                    steps_per_epoch= len(train_df)//batch_size, \n",
    "                    epochs=epochs,\n",
    "                    validation_data=val_datagen,\n",
    "                    validation_steps= len(validate_df)//batch_size)"
   ]
  },
  {
   "cell_type": "code",
   "execution_count": null,
   "metadata": {
    "ExecuteTime": {
     "end_time": "2021-02-13T21:44:59.144777Z",
     "start_time": "2021-02-13T21:44:59.094911Z"
    },
    "deletable": false,
    "editable": false,
    "run_control": {
     "frozen": true
    }
   },
   "outputs": [],
   "source": [
    "FAST_RUN = True\n",
    "epochs = 5 if FAST_RUN else 50\n",
    "\n",
    "total_train = train_df.shape[0]\n",
    "total_validate = validate_df.shape[0]\n",
    "batch_size=15\n",
    "\n",
    "\n",
    "model.compile(loss='binary_crossentropy', optimizer='adam', metrics=['accuracy'])\n",
    "from tensorflow.keras.callbacks import EarlyStopping, ReduceLROnPlateau\n",
    "learning_rate_reduction = ReduceLROnPlateau(monitor='val_accuracy', \n",
    "                                            patience=2, \n",
    "                                            verbose=1, \n",
    "                                            factor=0.5, \n",
    "                                            min_lr=0.00001)\n",
    "earlystop = EarlyStopping(patience=10)\n",
    "callbacks = [earlystop, learning_rate_reduction]\n",
    "history = model.fit(train_datagen,\n",
    "                              epochs=epochs,\n",
    "                              validation_data=val_datagen,\n",
    "                              validation_steps=total_validate // batch_size,\n",
    "                              steps_per_epoch=total_train // batch_size,\n",
    "                              callbacks=callbacks)  # Los callbacks definidos antes"
   ]
  },
  {
   "cell_type": "code",
   "execution_count": 7,
   "metadata": {
    "ExecuteTime": {
     "end_time": "2021-02-13T23:42:15.823517Z",
     "start_time": "2021-02-13T23:42:15.800559Z"
    }
   },
   "outputs": [
    {
     "data": {
      "text/plain": [
       "1600"
      ]
     },
     "execution_count": 7,
     "metadata": {},
     "output_type": "execute_result"
    }
   ],
   "source": [
    "len(validate_df)"
   ]
  },
  {
   "cell_type": "code",
   "execution_count": 8,
   "metadata": {
    "ExecuteTime": {
     "end_time": "2021-02-13T23:46:33.284611Z",
     "start_time": "2021-02-13T23:46:33.011645Z"
    }
   },
   "outputs": [],
   "source": [
    "model.save_weights(\"model.h5\")"
   ]
  },
  {
   "cell_type": "code",
   "execution_count": 10,
   "metadata": {
    "ExecuteTime": {
     "end_time": "2021-02-13T23:46:39.326251Z",
     "start_time": "2021-02-13T23:46:39.030232Z"
    }
   },
   "outputs": [
    {
     "ename": "TypeError",
     "evalue": "cannot pickle 'weakref' object",
     "output_type": "error",
     "traceback": [
      "\u001b[1;31m---------------------------------------------------------------------------\u001b[0m",
      "\u001b[1;31mTypeError\u001b[0m                                 Traceback (most recent call last)",
      "\u001b[1;32m<ipython-input-10-d82338fb67f3>\u001b[0m in \u001b[0;36m<module>\u001b[1;34m\u001b[0m\n\u001b[0;32m      1\u001b[0m \u001b[1;32mimport\u001b[0m \u001b[0mpickle\u001b[0m\u001b[1;33m\u001b[0m\u001b[1;33m\u001b[0m\u001b[0m\n\u001b[0;32m      2\u001b[0m \u001b[1;32mwith\u001b[0m \u001b[0mopen\u001b[0m\u001b[1;33m(\u001b[0m\u001b[1;34m'objs.pkl'\u001b[0m\u001b[1;33m,\u001b[0m \u001b[1;34m'wb'\u001b[0m\u001b[1;33m)\u001b[0m \u001b[1;32mas\u001b[0m \u001b[0mf\u001b[0m\u001b[1;33m:\u001b[0m\u001b[1;33m\u001b[0m\u001b[1;33m\u001b[0m\u001b[0m\n\u001b[1;32m----> 3\u001b[1;33m     \u001b[0mpickle\u001b[0m\u001b[1;33m.\u001b[0m\u001b[0mdump\u001b[0m\u001b[1;33m(\u001b[0m\u001b[0mhistory\u001b[0m\u001b[1;33m,\u001b[0m \u001b[0mf\u001b[0m\u001b[1;33m)\u001b[0m\u001b[1;33m\u001b[0m\u001b[1;33m\u001b[0m\u001b[0m\n\u001b[0m",
      "\u001b[1;31mTypeError\u001b[0m: cannot pickle 'weakref' object"
     ]
    }
   ],
   "source": [
    "import pickle\n",
    "with open('objs.pkl', 'wb') as f:\n",
    "    pickle.dump(history, f)"
   ]
  },
  {
   "cell_type": "code",
   "execution_count": 12,
   "metadata": {
    "ExecuteTime": {
     "end_time": "2021-02-13T23:47:57.932198Z",
     "start_time": "2021-02-13T23:47:56.991664Z"
    }
   },
   "outputs": [
    {
     "data": {
      "image/png": "[encoded data removed]",
      "text/plain": [
       "<Figure size 864x288 with 2 Axes>"
      ]
     },
     "metadata": {
      "needs_background": "light"
     },
     "output_type": "display_data"
    }
   ],
   "source": [
    "import matplotlib.pyplot as plt\n",
    "# Plot model accuracy and loss\n",
    "acc = history.history['accuracy']\n",
    "val_acc = history.history['val_accuracy']\n",
    "\n",
    "loss = history.history['loss']\n",
    "val_loss = history.history['val_loss']\n",
    "\n",
    "epochs_range = range(epochs)\n",
    "\n",
    "plt.figure(figsize=(12, 4))\n",
    "plt.subplot(1, 2, 1)\n",
    "plt.plot(epochs_range, acc, label='Training Accuracy')\n",
    "plt.plot(epochs_range, val_acc, label='Validation Accuracy')\n",
    "plt.legend(loc='lower right')\n",
    "plt.title('Training and Validation Accuracy')\n",
    "\n",
    "plt.subplot(1, 2, 2)\n",
    "plt.plot(epochs_range, loss, label='Training Loss')\n",
    "plt.plot(epochs_range, val_loss, label='Validation Loss')\n",
    "plt.legend(loc='upper right')\n",
    "plt.title('Training and Validation Loss')\n",
    "plt.show()"
   ]
  },
  {
   "cell_type": "code",
   "execution_count": 13,
   "metadata": {
    "ExecuteTime": {
     "end_time": "2021-02-13T23:49:12.806430Z",
     "start_time": "2021-02-13T23:48:21.629764Z"
    }
   },
   "outputs": [
    {
     "name": "stderr",
     "output_type": "stream",
     "text": [
      "C:\\Users\\USUARIO\\Programs\\anaconda\\lib\\site-packages\\tensorflow\\python\\keras\\engine\\training.py:1877: UserWarning: `Model.evaluate_generator` is deprecated and will be removed in a future version. Please use `Model.evaluate`, which supports generators.\n",
      "  warnings.warn('`Model.evaluate_generator` is deprecated and '\n"
     ]
    },
    {
     "name": "stdout",
     "output_type": "stream",
     "text": [
      "Test accuracy: 0.5\n",
      "Test loss: 0.6931498050689697\n"
     ]
    }
   ],
   "source": [
    "test_loss, test_acc = model.evaluate(test_datagen, steps=50)\n",
    "print('Test accuracy:', test_acc)\n",
    "print('Test loss:', test_loss)"
   ]
  },
  {
   "cell_type": "markdown",
   "metadata": {},
   "source": [
    "----------"
   ]
  },
  {
   "cell_type": "code",
   "execution_count": 14,
   "metadata": {
    "ExecuteTime": {
     "end_time": "2021-02-14T00:17:13.880594Z",
     "start_time": "2021-02-13T23:50:58.702656Z"
    }
   },
   "outputs": [
    {
     "name": "stdout",
     "output_type": "stream",
     "text": [
      "Found 6400 validated image filenames belonging to 2 classes.\n",
      "Found 1600 validated image filenames belonging to 2 classes.\n",
      "Found 2000 validated image filenames belonging to 2 classes.\n",
      "Model: \"sequential_1\"\n",
      "_________________________________________________________________\n",
      "Layer (type)                 Output Shape              Param #   \n",
      "=================================================================\n",
      "conv2d_3 (Conv2D)            (None, 254, 254, 32)      896       \n",
      "_________________________________________________________________\n",
      "max_pooling2d_3 (MaxPooling2 (None, 127, 127, 32)      0         \n",
      "_________________________________________________________________\n",
      "conv2d_4 (Conv2D)            (None, 125, 125, 64)      18496     \n",
      "_________________________________________________________________\n",
      "max_pooling2d_4 (MaxPooling2 (None, 62, 62, 64)        0         \n",
      "_________________________________________________________________\n",
      "conv2d_5 (Conv2D)            (None, 60, 60, 128)       73856     \n",
      "_________________________________________________________________\n",
      "max_pooling2d_5 (MaxPooling2 (None, 30, 30, 128)       0         \n",
      "_________________________________________________________________\n",
      "flatten_1 (Flatten)          (None, 115200)            0         \n",
      "_________________________________________________________________\n",
      "dense_2 (Dense)              (None, 128)               14745728  \n",
      "_________________________________________________________________\n",
      "activation_2 (Activation)    (None, 128)               0         \n",
      "_________________________________________________________________\n",
      "dropout_1 (Dropout)          (None, 128)               0         \n",
      "_________________________________________________________________\n",
      "dense_3 (Dense)              (None, 1)                 129       \n",
      "_________________________________________________________________\n",
      "activation_3 (Activation)    (None, 1)                 0         \n",
      "=================================================================\n",
      "Total params: 14,839,105\n",
      "Trainable params: 14,839,105\n",
      "Non-trainable params: 0\n",
      "_________________________________________________________________\n",
      "Epoch 1/20\n",
      "160/160 [==============================] - 81s 498ms/step - loss: 1.1794 - accuracy: 0.4988 - val_loss: 0.6931 - val_accuracy: 0.4975\n",
      "Epoch 2/20\n",
      "160/160 [==============================] - 79s 494ms/step - loss: 0.6968 - accuracy: 0.5216 - val_loss: 0.6979 - val_accuracy: 0.5025\n",
      "Epoch 3/20\n",
      "160/160 [==============================] - 79s 494ms/step - loss: 0.6546 - accuracy: 0.6055 - val_loss: 0.4927 - val_accuracy: 0.7381\n",
      "Epoch 4/20\n",
      "160/160 [==============================] - 78s 490ms/step - loss: 0.3819 - accuracy: 0.8359 - val_loss: 0.2825 - val_accuracy: 0.8856\n",
      "Epoch 5/20\n",
      "160/160 [==============================] - 79s 492ms/step - loss: 0.2545 - accuracy: 0.8959 - val_loss: 0.1725 - val_accuracy: 0.9331\n",
      "Epoch 6/20\n",
      "160/160 [==============================] - 79s 493ms/step - loss: 0.1425 - accuracy: 0.9452 - val_loss: 0.2617 - val_accuracy: 0.8975\n",
      "Epoch 7/20\n",
      "160/160 [==============================] - 78s 490ms/step - loss: 0.1552 - accuracy: 0.9390 - val_loss: 0.1750 - val_accuracy: 0.9337\n",
      "Epoch 8/20\n",
      "160/160 [==============================] - 79s 492ms/step - loss: 0.0697 - accuracy: 0.9766 - val_loss: 0.2291 - val_accuracy: 0.9162\n",
      "Epoch 9/20\n",
      "160/160 [==============================] - 79s 492ms/step - loss: 0.0720 - accuracy: 0.9733 - val_loss: 0.1585 - val_accuracy: 0.9456\n",
      "Epoch 10/20\n",
      "160/160 [==============================] - 78s 488ms/step - loss: 0.0442 - accuracy: 0.9868 - val_loss: 0.2518 - val_accuracy: 0.9038\n",
      "Epoch 11/20\n",
      "160/160 [==============================] - 78s 487ms/step - loss: 0.0801 - accuracy: 0.9719 - val_loss: 0.2588 - val_accuracy: 0.9200\n",
      "Epoch 12/20\n",
      "160/160 [==============================] - 78s 487ms/step - loss: 0.0340 - accuracy: 0.9864 - val_loss: 0.1887 - val_accuracy: 0.9450\n",
      "Epoch 13/20\n",
      "160/160 [==============================] - 78s 488ms/step - loss: 0.0207 - accuracy: 0.9923 - val_loss: 0.2178 - val_accuracy: 0.9269\n",
      "Epoch 14/20\n",
      "160/160 [==============================] - 78s 488ms/step - loss: 0.0225 - accuracy: 0.9922 - val_loss: 0.2737 - val_accuracy: 0.8919\n",
      "Epoch 15/20\n",
      "160/160 [==============================] - 79s 490ms/step - loss: 0.0411 - accuracy: 0.9888 - val_loss: 0.2691 - val_accuracy: 0.9419\n",
      "Epoch 16/20\n",
      "160/160 [==============================] - 79s 490ms/step - loss: 0.0110 - accuracy: 0.9964 - val_loss: 0.2791 - val_accuracy: 0.9312\n",
      "Epoch 17/20\n",
      "160/160 [==============================] - 79s 492ms/step - loss: 0.0111 - accuracy: 0.9954 - val_loss: 0.2953 - val_accuracy: 0.9362\n",
      "Epoch 18/20\n",
      "160/160 [==============================] - 79s 492ms/step - loss: 0.0281 - accuracy: 0.9892 - val_loss: 0.2324 - val_accuracy: 0.9463\n",
      "Epoch 19/20\n",
      "160/160 [==============================] - 79s 490ms/step - loss: 0.0243 - accuracy: 0.9919 - val_loss: 0.2297 - val_accuracy: 0.9388\n",
      "Epoch 20/20\n",
      "160/160 [==============================] - 79s 491ms/step - loss: 0.0072 - accuracy: 0.9985 - val_loss: 0.2656 - val_accuracy: 0.9469\n"
     ]
    }
   ],
   "source": [
    "train_datagen = ImageDataGenerator(rescale=1/255,\n",
    "#                                    rotation_range=15,\n",
    "#                                   zoom_range=0.2,\n",
    "#                                   horizontal_flip=True,\n",
    "                                  )\n",
    "test_datagen = ImageDataGenerator(rescale=1/255,\n",
    "#                                    rotation_range=15,\n",
    "#                                   zoom_range=0.2,\n",
    "#                                   horizontal_flip=True,\n",
    "                                 )\n",
    "val_datagen = ImageDataGenerator(rescale=1/255,\n",
    "#                                    rotation_range=15,\n",
    "#                                   zoom_range=0.2,\n",
    "#                                   horizontal_flip=True,\n",
    "                                )\n",
    "\n",
    "target_size = (256,256)\n",
    "# ----\n",
    "from sklearn.model_selection import train_test_split\n",
    "train_df, validate_df = train_test_split(train, test_size=0.20, random_state=42)\n",
    "batch_size = 40\n",
    "\n",
    "train_datagen = train_datagen.flow_from_dataframe(train_df,\n",
    "                                  x_col='filepath',\n",
    "                                  y_col='is_non_cancer',\n",
    "                                  target_size=target_size,\n",
    "                                  batch_size=batch_size,\n",
    "                                  class_mode='binary',)\n",
    "val_datagen = val_datagen.flow_from_dataframe(validate_df,\n",
    "                                  x_col='filepath',\n",
    "                                  y_col='is_non_cancer',\n",
    "                                  target_size=target_size,\n",
    "                                  batch_size=batch_size,\n",
    "                                  class_mode='binary',\n",
    "                                  shuffle=False)\n",
    "test_datagen = test_datagen.flow_from_dataframe(test,\n",
    "                                  x_col='filepath',\n",
    "                                  y_col='is_non_cancer',\n",
    "                                  target_size=target_size,\n",
    "                                  batch_size=batch_size,\n",
    "                                  class_mode='binary',\n",
    "                                  shuffle=False)\n",
    "# ----\n",
    "input_shape = (256,256,3)\n",
    "\n",
    "model2 = Sequential()\n",
    "\n",
    "# Add convolutional/pooling layers\n",
    "\n",
    "model2.add(Conv2D(filters=32, kernel_size=(3,3),input_shape=input_shape, activation='relu',))\n",
    "model2.add(MaxPooling2D(pool_size=(2, 2)))\n",
    "\n",
    "model2.add(Conv2D(filters=64, kernel_size=(3,3),input_shape=input_shape, activation='relu',))\n",
    "model2.add(MaxPooling2D(pool_size=(2, 2)))\n",
    "\n",
    "model2.add(Conv2D(filters=128, kernel_size=(3,3),input_shape=input_shape, activation='relu',))\n",
    "model2.add(MaxPooling2D(pool_size=(2, 2)))\n",
    "\n",
    "# Add flatten layer\n",
    "model2.add(Flatten())\n",
    "\n",
    "# Add dense/dropout layers + activation functions\n",
    "\n",
    "model2.add(Dense(128))\n",
    "model2.add(Activation('relu'))# relu activation function for deep layer\n",
    "model2.add(Dropout(0.2))\n",
    "\n",
    "model2.add(Dense(1))\n",
    "model2.add(Activation('sigmoid'))# sigmoid activation function for last layer for binary classification\n",
    "\n",
    "# Print summary of your model\n",
    "model2.summary() \n",
    "# ----\n",
    "\n",
    "model2.compile(loss='binary_crossentropy', optimizer='adam', metrics=['accuracy'])\n",
    "\n",
    "epochs = 20\n",
    "history2 = model2.fit(train_datagen,\n",
    "                    steps_per_epoch= len(train_df)//batch_size, \n",
    "                    epochs=epochs,\n",
    "                    validation_data=val_datagen,\n",
    "                    validation_steps= len(validate_df)//batch_size)"
   ]
  },
  {
   "cell_type": "code",
   "execution_count": 15,
   "metadata": {
    "ExecuteTime": {
     "end_time": "2021-02-14T00:32:05.599650Z",
     "start_time": "2021-02-14T00:31:45.240092Z"
    }
   },
   "outputs": [
    {
     "name": "stdout",
     "output_type": "stream",
     "text": [
      "50/50 [==============================] - 20s 396ms/step - loss: 0.2959 - accuracy: 0.9395\n",
      "Test accuracy: 0.9394999742507935\n",
      "Test loss: 0.29586341977119446\n"
     ]
    }
   ],
   "source": [
    "test_loss, test_acc = model2.evaluate(test_datagen, steps=50)\n",
    "print('Test accuracy:', test_acc)\n",
    "print('Test loss:', test_loss)"
   ]
  },
  {
   "cell_type": "code",
   "execution_count": 16,
   "metadata": {
    "ExecuteTime": {
     "end_time": "2021-02-14T00:32:40.348352Z",
     "start_time": "2021-02-14T00:32:39.925508Z"
    }
   },
   "outputs": [
    {
     "data": {
      "image/png": "[encoded data removed]",
      "text/plain": [
       "<Figure size 864x288 with 2 Axes>"
      ]
     },
     "metadata": {
      "needs_background": "light"
     },
     "output_type": "display_data"
    }
   ],
   "source": [
    "\n",
    "# Plot model accuracy and loss\n",
    "acc = history2.history['accuracy']\n",
    "val_acc = history2.history['val_accuracy']\n",
    "\n",
    "loss = history2.history['loss']\n",
    "val_loss = history2.history['val_loss']\n",
    "\n",
    "epochs_range = range(epochs)\n",
    "\n",
    "plt.figure(figsize=(12, 4))\n",
    "plt.subplot(1, 2, 1)\n",
    "plt.plot(epochs_range, acc, label='Training Accuracy')\n",
    "plt.plot(epochs_range, val_acc, label='Validation Accuracy')\n",
    "plt.legend(loc='lower right')\n",
    "plt.title('Training and Validation Accuracy')\n",
    "\n",
    "plt.subplot(1, 2, 2)\n",
    "plt.plot(epochs_range, loss, label='Training Loss')\n",
    "plt.plot(epochs_range, val_loss, label='Validation Loss')\n",
    "plt.legend(loc='upper right')\n",
    "plt.title('Training and Validation Loss')\n",
    "plt.show()"
   ]
  },
  {
   "cell_type": "code",
   "execution_count": 17,
   "metadata": {
    "ExecuteTime": {
     "end_time": "2021-02-14T00:33:03.572914Z",
     "start_time": "2021-02-14T00:33:03.371073Z"
    }
   },
   "outputs": [],
   "source": [
    "model2.save_weights(\"model.h5\")"
   ]
  }
 ],
 "metadata": {
  "hide_input": false,
  "kernelspec": {
   "display_name": "Python 3",
   "language": "python",
   "name": "python3"
  },
  "language_info": {
   "codemirror_mode": {
    "name": "ipython",
    "version": 3
   },
   "file_extension": ".py",
   "mimetype": "text/x-python",
   "name": "python",
   "nbconvert_exporter": "python",
   "pygments_lexer": "ipython3",
   "version": "3.8.5"
  },
  "notify_time": "5",
  "toc": {
   "base_numbering": 1,
   "nav_menu": {},
   "number_sections": false,
   "sideBar": true,
   "skip_h1_title": false,
   "title_cell": "Table of Contents",
   "title_sidebar": "Contents",
   "toc_cell": false,
   "toc_position": {},
   "toc_section_display": true,
   "toc_window_display": false
  },
  "varInspector": {
   "cols": {
    "lenName": 16,
    "lenType": 16,
    "lenVar": 40
   },
   "kernels_config": {
    "python": {
     "delete_cmd_postfix": "",
     "delete_cmd_prefix": "del ",
     "library": "var_list.py",
     "varRefreshCmd": "print(var_dic_list())"
    },
    "r": {
     "delete_cmd_postfix": ") ",
     "delete_cmd_prefix": "rm(",
     "library": "var_list.r",
     "varRefreshCmd": "cat(var_dic_list()) "
    }
   },
   "types_to_exclude": [
    "module",
    "function",
    "builtin_function_or_method",
    "instance",
    "_Feature"
   ],
   "window_display": false
  }
 },
 "nbformat": 4,
 "nbformat_minor": 4
}
